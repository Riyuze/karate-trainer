{
 "cells": [
  {
   "attachments": {},
   "cell_type": "markdown",
   "metadata": {},
   "source": [
    "# Person Detector #"
   ]
  },
  {
   "attachments": {},
   "cell_type": "markdown",
   "metadata": {},
   "source": [
    "This script is used to find the person in the image so that the person can be cropped out and be used in the project. This will create a more accurate result."
   ]
  },
  {
   "attachments": {},
   "cell_type": "markdown",
   "metadata": {},
   "source": [
    "### Import dependencies ###"
   ]
  },
  {
   "cell_type": "code",
   "execution_count": 1,
   "metadata": {},
   "outputs": [],
   "source": [
    "import cv2\n",
    "import numpy as np\n",
    "import tensorflow as tf\n",
    "from yolov3.utils import detect_image, detect_realtime, detect_video, Load_Yolo_model, detect_video_realtime_mp\n",
    "from yolov3.configs import *"
   ]
  },
  {
   "attachments": {},
   "cell_type": "markdown",
   "metadata": {},
   "source": [
    "### Specify path ###"
   ]
  },
  {
   "cell_type": "code",
   "execution_count": 2,
   "metadata": {},
   "outputs": [],
   "source": [
    "image = \"./reference_pose/a_hidari_gedan_barai.png\""
   ]
  },
  {
   "cell_type": "code",
   "execution_count": 3,
   "metadata": {},
   "outputs": [
    {
     "ename": "FileNotFoundError",
     "evalue": "[Errno 2] No such file or directory: 'model_data/coco/coco.names'",
     "output_type": "error",
     "traceback": [
      "\u001b[1;31m---------------------------------------------------------------------------\u001b[0m",
      "\u001b[1;31mFileNotFoundError\u001b[0m                         Traceback (most recent call last)",
      "Cell \u001b[1;32mIn[3], line 1\u001b[0m\n\u001b[1;32m----> 1\u001b[0m yolo \u001b[39m=\u001b[39m Load_Yolo_model()\n\u001b[0;32m      2\u001b[0m detect_image(yolo, image, \u001b[39m\"\u001b[39m\u001b[39mtest.jpg\u001b[39m\u001b[39m\"\u001b[39m, input_size\u001b[39m=\u001b[39mYOLO_INPUT_SIZE, show\u001b[39m=\u001b[39m\u001b[39mTrue\u001b[39;00m, rectangle_colors\u001b[39m=\u001b[39m(\u001b[39m255\u001b[39m,\u001b[39m0\u001b[39m,\u001b[39m0\u001b[39m))\n",
      "File \u001b[1;32md:\\Coding\\karate-trainer\\karate-trainer\\yolov3\\utils.py:76\u001b[0m, in \u001b[0;36mLoad_Yolo_model\u001b[1;34m()\u001b[0m\n\u001b[0;32m     73\u001b[0m     Darknet_weights \u001b[39m=\u001b[39m YOLO_V3_TINY_WEIGHTS \u001b[39mif\u001b[39;00m TRAIN_YOLO_TINY \u001b[39melse\u001b[39;00m YOLO_V3_WEIGHTS\n\u001b[0;32m     75\u001b[0m \u001b[39mif\u001b[39;00m YOLO_CUSTOM_WEIGHTS \u001b[39m==\u001b[39m \u001b[39mFalse\u001b[39;00m:\n\u001b[1;32m---> 76\u001b[0m     yolo \u001b[39m=\u001b[39m Create_Yolo(input_size\u001b[39m=\u001b[39;49mYOLO_INPUT_SIZE, CLASSES\u001b[39m=\u001b[39;49mYOLO_COCO_CLASSES)\n\u001b[0;32m     77\u001b[0m     load_yolo_weights(yolo, Darknet_weights) \u001b[39m# use Darknet weights\u001b[39;00m\n\u001b[0;32m     78\u001b[0m \u001b[39melse\u001b[39;00m:\n",
      "File \u001b[1;32md:\\Coding\\karate-trainer\\karate-trainer\\yolov3\\yolov3.py:367\u001b[0m, in \u001b[0;36mCreate_Yolo\u001b[1;34m(input_size, channels, training, CLASSES)\u001b[0m\n\u001b[0;32m    366\u001b[0m \u001b[39mdef\u001b[39;00m \u001b[39mCreate_Yolo\u001b[39m(input_size\u001b[39m=\u001b[39m\u001b[39m416\u001b[39m, channels\u001b[39m=\u001b[39m\u001b[39m3\u001b[39m, training\u001b[39m=\u001b[39m\u001b[39mFalse\u001b[39;00m, CLASSES\u001b[39m=\u001b[39mYOLO_COCO_CLASSES):\n\u001b[1;32m--> 367\u001b[0m     NUM_CLASS \u001b[39m=\u001b[39m \u001b[39mlen\u001b[39m(read_class_names(CLASSES))\n\u001b[0;32m    368\u001b[0m     input_layer  \u001b[39m=\u001b[39m Input([input_size, input_size, channels])\n\u001b[0;32m    370\u001b[0m     \u001b[39mif\u001b[39;00m TRAIN_YOLO_TINY:\n",
      "File \u001b[1;32md:\\Coding\\karate-trainer\\karate-trainer\\yolov3\\yolov3.py:14\u001b[0m, in \u001b[0;36mread_class_names\u001b[1;34m(class_file_name)\u001b[0m\n\u001b[0;32m     11\u001b[0m \u001b[39mdef\u001b[39;00m \u001b[39mread_class_names\u001b[39m(class_file_name):\n\u001b[0;32m     12\u001b[0m     \u001b[39m# loads class name from a file\u001b[39;00m\n\u001b[0;32m     13\u001b[0m     names \u001b[39m=\u001b[39m {}\n\u001b[1;32m---> 14\u001b[0m     \u001b[39mwith\u001b[39;00m \u001b[39mopen\u001b[39;49m(class_file_name, \u001b[39m'\u001b[39;49m\u001b[39mr\u001b[39;49m\u001b[39m'\u001b[39;49m) \u001b[39mas\u001b[39;00m data:\n\u001b[0;32m     15\u001b[0m         \u001b[39mfor\u001b[39;00m ID, name \u001b[39min\u001b[39;00m \u001b[39menumerate\u001b[39m(data):\n\u001b[0;32m     16\u001b[0m             names[ID] \u001b[39m=\u001b[39m name\u001b[39m.\u001b[39mstrip(\u001b[39m'\u001b[39m\u001b[39m\\n\u001b[39;00m\u001b[39m'\u001b[39m)\n",
      "\u001b[1;31mFileNotFoundError\u001b[0m: [Errno 2] No such file or directory: 'model_data/coco/coco.names'"
     ]
    }
   ],
   "source": [
    "yolo = Load_Yolo_model()\n",
    "detect_image(yolo, image, \"test.jpg\", input_size=YOLO_INPUT_SIZE, show=True, rectangle_colors=(255,0,0))"
   ]
  }
 ],
 "metadata": {
  "kernelspec": {
   "display_name": "karate-trainer",
   "language": "python",
   "name": "python3"
  },
  "language_info": {
   "codemirror_mode": {
    "name": "ipython",
    "version": 3
   },
   "file_extension": ".py",
   "mimetype": "text/x-python",
   "name": "python",
   "nbconvert_exporter": "python",
   "pygments_lexer": "ipython3",
   "version": "3.10.4"
  },
  "orig_nbformat": 4,
  "vscode": {
   "interpreter": {
    "hash": "3e7ead78e6b3ff796c6a295dea41d22dbcc7ad8777260a88e925872abe439df3"
   }
  }
 },
 "nbformat": 4,
 "nbformat_minor": 2
}
