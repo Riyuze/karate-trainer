{
 "cells": [
  {
   "attachments": {},
   "cell_type": "markdown",
   "metadata": {},
   "source": [
    "# Get Coordinates #"
   ]
  },
  {
   "attachments": {},
   "cell_type": "markdown",
   "metadata": {},
   "source": [
    "This script is used to get all the coordinates of each pose's keypoints and saves it into a CSV file."
   ]
  },
  {
   "attachments": {},
   "cell_type": "markdown",
   "metadata": {},
   "source": [
    "### Import dependencies ###"
   ]
  },
  {
   "cell_type": "code",
   "execution_count": null,
   "metadata": {},
   "outputs": [],
   "source": [
    "import cv2\n",
    "import math\n",
    "import numpy as np\n",
    "from matplotlib import pyplot as plt\n",
    "import mediapipe as mp\n",
    "from typing import List, Optional, Tuple\n",
    "from mediapipe.framework.formats import landmark_pb2\n",
    "from dataclasses import dataclass"
   ]
  },
  {
   "attachments": {},
   "cell_type": "markdown",
   "metadata": {},
   "source": [
    "### Resize image ###"
   ]
  },
  {
   "cell_type": "code",
   "execution_count": null,
   "metadata": {},
   "outputs": [],
   "source": [
    "DESIRED_HEIGHT = 800\n",
    "DESIRED_WIDTH = 800\n",
    "\n",
    "def resize(image):\n",
    "    h, w = image.shape[:2]\n",
    "    if h < w:\n",
    "        return cv2.resize(image, (DESIRED_WIDTH, math.floor(h/(w/DESIRED_WIDTH))))\n",
    "    else:\n",
    "        return cv2.resize(image, (math.floor(w/(h/DESIRED_HEIGHT)), DESIRED_HEIGHT))"
   ]
  },
  {
   "attachments": {},
   "cell_type": "markdown",
   "metadata": {},
   "source": [
    "### Import images ###"
   ]
  },
  {
   "cell_type": "code",
   "execution_count": null,
   "metadata": {},
   "outputs": [],
   "source": [
    "images = []\n",
    "\n",
    "image1 = resize(cv2.imread(\"reference_pose/h_hidari_age_uke_jodan.png\"))\n",
    "\n",
    "images.append(image1)"
   ]
  },
  {
   "attachments": {},
   "cell_type": "markdown",
   "metadata": {},
   "source": [
    "### Run mediapipe ###"
   ]
  },
  {
   "cell_type": "code",
   "execution_count": null,
   "metadata": {},
   "outputs": [],
   "source": [
    "mp_pose = mp.solutions.pose\n",
    "mp_drawing = mp.solutions.drawing_utils\n",
    "mp_drawing_styles = mp.solutions.drawing_styles\n",
    "\n",
    "with mp_pose.Pose(static_image_mode=True, min_detection_confidence=0.7, model_complexity=2) as pose:\n",
    "    for image in images:\n",
    "        results = pose.process(cv2.cvtColor(image, cv2.COLOR_BGR2RGB))\n",
    "\n",
    "        image_height, image_width, _ = image.shape\n",
    "        if not results.pose_landmarks:\n",
    "            continue\n",
    "        \n",
    "        print(\n",
    "            f'Landmark Coordinates: ('\n",
    "            f'{results.pose_landmarks})'\n",
    "        )\n",
    "\n",
    "        annotated_image = image.copy()\n",
    "        mp_drawing.draw_landmarks(\n",
    "            annotated_image,\n",
    "            results.pose_landmarks,\n",
    "            mp_pose.POSE_CONNECTIONS,\n",
    "            landmark_drawing_spec=mp_drawing_styles.get_default_pose_landmarks_style())\n",
    "        plt.imshow(annotated_image)"
   ]
  },
  {
   "attachments": {},
   "cell_type": "markdown",
   "metadata": {},
   "source": [
    "### Plot landmarks ###"
   ]
  },
  {
   "cell_type": "code",
   "execution_count": null,
   "metadata": {},
   "outputs": [],
   "source": [
    "WHITE_COLOR = (224, 224, 224)\n",
    "BLACK_COLOR = (0, 0, 0)\n",
    "RED_COLOR = (0, 0, 255)\n",
    "\n",
    "_PRESENCE_THRESHOLD = 0.05\n",
    "_VISIBILITY_THRESHOLD = 0.05\n",
    "\n",
    "\n",
    "@dataclass\n",
    "class DrawingSpec:\n",
    "    color: Tuple[int, int, int] = WHITE_COLOR\n",
    "    thickness: int = 2\n",
    "    circle_radius: int = 2\n",
    "\n",
    "\n",
    "def _normalize_color(color):\n",
    "    return tuple(v / 255. for v in color)\n",
    "\n",
    "\n",
    "def plot_landmarks(landmark_list: landmark_pb2.NormalizedLandmarkList,\n",
    "                   connections: Optional[List[Tuple[int, int]]] = None,\n",
    "                   landmark_drawing_spec: DrawingSpec = DrawingSpec(\n",
    "                       color=RED_COLOR, thickness=5),\n",
    "                   connection_drawing_spec: DrawingSpec = DrawingSpec(\n",
    "                       color=BLACK_COLOR, thickness=5),\n",
    "                   elevation: int = 10,\n",
    "                   azimuth: int = 0):\n",
    "\n",
    "    \"\"\"Plot the landmarks and the connections in matplotlib 3d.\n",
    "\n",
    "    Args:\n",
    "      landmark_list: A normalized landmark list proto message to be plotted.\n",
    "      connections: A list of landmark index tuples that specifies how landmarks to\n",
    "        be connected.\n",
    "      landmark_drawing_spec: A DrawingSpec object that specifies the landmarks'\n",
    "        drawing settings such as color and line thickness.\n",
    "      connection_drawing_spec: A DrawingSpec object that specifies the\n",
    "        connections' drawing settings such as color and line thickness.\n",
    "      elevation: The elevation from which to view the plot.\n",
    "      azimuth: the azimuth angle to rotate the plot.\n",
    "\n",
    "    Raises:\n",
    "      ValueError: If any connection contains an invalid landmark index.\n",
    "    \"\"\"\n",
    "    \n",
    "    if not landmark_list:\n",
    "        return\n",
    "    plt.figure(figsize=(10, 10))\n",
    "    ax = plt.axes(projection='3d')\n",
    "    ax.view_init(elev=elevation, azim=azimuth)\n",
    "    plotted_landmarks = {}\n",
    "    for idx, landmark in enumerate(landmark_list.landmark):\n",
    "        if ((landmark.HasField('visibility') and\n",
    "             landmark.visibility < _VISIBILITY_THRESHOLD) or\n",
    "            (landmark.HasField('presence') and\n",
    "             landmark.presence < _PRESENCE_THRESHOLD)):\n",
    "            continue\n",
    "        ax.scatter3D(\n",
    "            xs=[-landmark.z],\n",
    "            ys=[landmark.x],\n",
    "            zs=[-landmark.y],\n",
    "            color=_normalize_color(landmark_drawing_spec.color[::-1]),\n",
    "            linewidth=landmark_drawing_spec.thickness)\n",
    "        plotted_landmarks[idx] = (-landmark.z, landmark.x, -landmark.y)\n",
    "    if connections:\n",
    "        num_landmarks = len(landmark_list.landmark)\n",
    "        # Draws the connections if the start and end landmarks are both visible.\n",
    "        for connection in connections:\n",
    "            start_idx = connection[0]\n",
    "            end_idx = connection[1]\n",
    "            if not (0 <= start_idx < num_landmarks and 0 <= end_idx < num_landmarks):\n",
    "                raise ValueError(f'Landmark index is out of range. Invalid connection '\n",
    "                                 f'from landmark #{start_idx} to landmark #{end_idx}.')\n",
    "            if start_idx in plotted_landmarks and end_idx in plotted_landmarks:\n",
    "                landmark_pair = [\n",
    "                    plotted_landmarks[start_idx], plotted_landmarks[end_idx]\n",
    "                ]\n",
    "                ax.plot3D(\n",
    "                    xs=[landmark_pair[0][0], landmark_pair[1][0]],\n",
    "                    ys=[landmark_pair[0][1], landmark_pair[1][1]],\n",
    "                    zs=[landmark_pair[0][2], landmark_pair[1][2]],\n",
    "                    color=_normalize_color(\n",
    "                        connection_drawing_spec.color[::-1]),\n",
    "                    linewidth=connection_drawing_spec.thickness)\n",
    "    plt.show()\n",
    "\n",
    "plot_landmarks(results.pose_world_landmarks, mp_pose.POSE_CONNECTIONS)"
   ]
  }
 ],
 "metadata": {
  "kernelspec": {
   "display_name": "karate-trainer",
   "language": "python",
   "name": "python3"
  },
  "language_info": {
   "codemirror_mode": {
    "name": "ipython",
    "version": 3
   },
   "file_extension": ".py",
   "mimetype": "text/x-python",
   "name": "python",
   "nbconvert_exporter": "python",
   "pygments_lexer": "ipython3",
   "version": "3.10.4"
  },
  "orig_nbformat": 4,
  "vscode": {
   "interpreter": {
    "hash": "3e7ead78e6b3ff796c6a295dea41d22dbcc7ad8777260a88e925872abe439df3"
   }
  }
 },
 "nbformat": 4,
 "nbformat_minor": 2
}
