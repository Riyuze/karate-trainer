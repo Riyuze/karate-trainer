{
 "cells": [
  {
   "attachments": {},
   "cell_type": "markdown",
   "metadata": {},
   "source": [
    "# Get Coordinates #"
   ]
  },
  {
   "attachments": {},
   "cell_type": "markdown",
   "metadata": {},
   "source": [
    "This script is used to get all the coordinates of each pose's keypoints and saves it into a CSV file."
   ]
  },
  {
   "attachments": {},
   "cell_type": "markdown",
   "metadata": {},
   "source": [
    "### Import dependencies ###"
   ]
  },
  {
   "cell_type": "code",
   "execution_count": 4,
   "metadata": {},
   "outputs": [
    {
     "ename": "FileNotFoundError",
     "evalue": "[WinError 2] The system cannot find the file specified: 'd:\\\\Coding\\\\karate-trainer\\\\lib\\\\site-packages\\\\matplotlib.libs'",
     "output_type": "error",
     "traceback": [
      "\u001b[1;31m---------------------------------------------------------------------------\u001b[0m",
      "\u001b[1;31mFileNotFoundError\u001b[0m                         Traceback (most recent call last)",
      "Cell \u001b[1;32mIn[4], line 4\u001b[0m\n\u001b[0;32m      2\u001b[0m \u001b[39mimport\u001b[39;00m \u001b[39mmath\u001b[39;00m\n\u001b[0;32m      3\u001b[0m \u001b[39mimport\u001b[39;00m \u001b[39mnumpy\u001b[39;00m \u001b[39mas\u001b[39;00m \u001b[39mnp\u001b[39;00m\n\u001b[1;32m----> 4\u001b[0m \u001b[39mfrom\u001b[39;00m \u001b[39mmatplotlib\u001b[39;00m \u001b[39mimport\u001b[39;00m pyplot \u001b[39mas\u001b[39;00m plt\n\u001b[0;32m      5\u001b[0m \u001b[39mimport\u001b[39;00m \u001b[39mmediapipe\u001b[39;00m \u001b[39mas\u001b[39;00m \u001b[39mmp\u001b[39;00m\n\u001b[0;32m      6\u001b[0m \u001b[39mfrom\u001b[39;00m \u001b[39mtyping\u001b[39;00m \u001b[39mimport\u001b[39;00m List, Optional, Tuple, Union, Mapping\n",
      "File \u001b[1;32md:\\Coding\\karate-trainer\\lib\\site-packages\\matplotlib\\__init__.py:117\u001b[0m\n\u001b[0;32m    113\u001b[0m     \u001b[39mif\u001b[39;00m \u001b[39mnot\u001b[39;00m is_pyinstaller \u001b[39mor\u001b[39;00m os\u001b[39m.\u001b[39mpath\u001b[39m.\u001b[39misdir(libs_dir):\n\u001b[0;32m    114\u001b[0m         os\u001b[39m.\u001b[39madd_dll_directory(libs_dir)\n\u001b[1;32m--> 117\u001b[0m _delvewheel_init_patch_1_3_0()\n\u001b[0;32m    118\u001b[0m \u001b[39mdel\u001b[39;00m _delvewheel_init_patch_1_3_0\n\u001b[0;32m    119\u001b[0m \u001b[39m# end delvewheel patch\u001b[39;00m\n",
      "File \u001b[1;32md:\\Coding\\karate-trainer\\lib\\site-packages\\matplotlib\\__init__.py:114\u001b[0m, in \u001b[0;36m_delvewheel_init_patch_1_3_0\u001b[1;34m()\u001b[0m\n\u001b[0;32m    112\u001b[0m is_pyinstaller \u001b[39m=\u001b[39m \u001b[39mgetattr\u001b[39m(sys, \u001b[39m'\u001b[39m\u001b[39mfrozen\u001b[39m\u001b[39m'\u001b[39m, \u001b[39mFalse\u001b[39;00m) \u001b[39mand\u001b[39;00m \u001b[39mhasattr\u001b[39m(sys, \u001b[39m'\u001b[39m\u001b[39m_MEIPASS\u001b[39m\u001b[39m'\u001b[39m)\n\u001b[0;32m    113\u001b[0m \u001b[39mif\u001b[39;00m \u001b[39mnot\u001b[39;00m is_pyinstaller \u001b[39mor\u001b[39;00m os\u001b[39m.\u001b[39mpath\u001b[39m.\u001b[39misdir(libs_dir):\n\u001b[1;32m--> 114\u001b[0m     os\u001b[39m.\u001b[39;49madd_dll_directory(libs_dir)\n",
      "File \u001b[1;32m~\\AppData\\Local\\Programs\\Python\\Python310\\lib\\os.py:1117\u001b[0m, in \u001b[0;36madd_dll_directory\u001b[1;34m(path)\u001b[0m\n\u001b[0;32m   1107\u001b[0m \u001b[39m\u001b[39m\u001b[39m\"\"\"Add a path to the DLL search path.\u001b[39;00m\n\u001b[0;32m   1108\u001b[0m \n\u001b[0;32m   1109\u001b[0m \u001b[39mThis search path is used when resolving dependencies for imported\u001b[39;00m\n\u001b[1;32m   (...)\u001b[0m\n\u001b[0;32m   1114\u001b[0m \u001b[39musing it in a with statement.\u001b[39;00m\n\u001b[0;32m   1115\u001b[0m \u001b[39m\"\"\"\u001b[39;00m\n\u001b[0;32m   1116\u001b[0m \u001b[39mimport\u001b[39;00m \u001b[39mnt\u001b[39;00m\n\u001b[1;32m-> 1117\u001b[0m cookie \u001b[39m=\u001b[39m nt\u001b[39m.\u001b[39;49m_add_dll_directory(path)\n\u001b[0;32m   1118\u001b[0m \u001b[39mreturn\u001b[39;00m _AddedDllDirectory(\n\u001b[0;32m   1119\u001b[0m     path,\n\u001b[0;32m   1120\u001b[0m     cookie,\n\u001b[0;32m   1121\u001b[0m     nt\u001b[39m.\u001b[39m_remove_dll_directory\n\u001b[0;32m   1122\u001b[0m )\n",
      "\u001b[1;31mFileNotFoundError\u001b[0m: [WinError 2] The system cannot find the file specified: 'd:\\\\Coding\\\\karate-trainer\\\\lib\\\\site-packages\\\\matplotlib.libs'"
     ]
    }
   ],
   "source": [
    "import cv2\n",
    "import math\n",
    "import numpy as np\n",
    "from matplotlib import pyplot as plt\n",
    "import mediapipe as mp\n",
    "from typing import List, Optional, Tuple, Union, Mapping\n",
    "from mediapipe.framework.formats import landmark_pb2\n",
    "from dataclasses import dataclass"
   ]
  },
  {
   "attachments": {},
   "cell_type": "markdown",
   "metadata": {},
   "source": [
    "### Resize image function ###"
   ]
  },
  {
   "cell_type": "code",
   "execution_count": null,
   "metadata": {},
   "outputs": [],
   "source": [
    "DESIRED_HEIGHT = 800\n",
    "DESIRED_WIDTH = 800\n",
    "\n",
    "def resize(image):\n",
    "    h, w = image.shape[:2]\n",
    "    if h < w:\n",
    "        return cv2.resize(image, (DESIRED_WIDTH, math.floor(h/(w/DESIRED_WIDTH))))\n",
    "    else:\n",
    "        return cv2.resize(image, (math.floor(w/(h/DESIRED_HEIGHT)), DESIRED_HEIGHT))"
   ]
  },
  {
   "attachments": {},
   "cell_type": "markdown",
   "metadata": {},
   "source": [
    "### Import images ###"
   ]
  },
  {
   "cell_type": "code",
   "execution_count": null,
   "metadata": {},
   "outputs": [],
   "source": [
    "images = []\n",
    "\n",
    "image1 = resize(cv2.imread(\"reference_pose/test.png\"))\n",
    "\n",
    "images.append(image1)"
   ]
  },
  {
   "cell_type": "markdown",
   "metadata": {},
   "source": [
    "### Run mediapipe ###"
   ]
  },
  {
   "cell_type": "code",
   "execution_count": null,
   "metadata": {},
   "outputs": [],
   "source": [
    "mp_pose = mp.solutions.pose\n",
    "mp_drawing_styles = mp.solutions.drawing_styles\n",
    "\n",
    "with mp_pose.Pose(static_image_mode=True, min_detection_confidence=0.7, model_complexity=2) as pose:\n",
    "    for image in images:\n",
    "        results = pose.process(cv2.cvtColor(image, cv2.COLOR_BGR2RGB))\n",
    "\n",
    "        image_height, image_width, _ = image.shape\n",
    "        if not results.pose_landmarks:\n",
    "            continue\n",
    "        \n",
    "        print(\n",
    "            f'Landmark Coordinates: ('\n",
    "            f'{results.pose_landmarks})'\n",
    "        )\n",
    "\n",
    "        #TODO: CHANGE PRINT TO TRANSFER TO CSV FILE"
   ]
  },
  {
   "attachments": {},
   "cell_type": "markdown",
   "metadata": {},
   "source": [
    "### Mediapipe Constants and Tools ###"
   ]
  },
  {
   "cell_type": "code",
   "execution_count": null,
   "metadata": {},
   "outputs": [],
   "source": [
    "WHITE_COLOR = (224, 224, 224)\n",
    "BLACK_COLOR = (0, 0, 0)\n",
    "RED_COLOR = (0, 0, 255)\n",
    "\n",
    "_PRESENCE_THRESHOLD = 0.05\n",
    "_VISIBILITY_THRESHOLD = 0.05\n",
    "_BGR_CHANNELS = 3\n",
    "\n",
    "@dataclass\n",
    "class DrawingSpec:\n",
    "    color: Tuple[int, int, int] = WHITE_COLOR\n",
    "    thickness: int = 2\n",
    "    circle_radius: int = 2\n",
    "\n",
    "def _normalize_color(color):\n",
    "    return tuple(v / 255. for v in color)\n",
    "\n",
    "def _normalized_to_pixel_coordinates(\n",
    "        normalized_x: float, normalized_y: float, image_width: int,\n",
    "        image_height: int) -> Union[None, Tuple[int, int]]:\n",
    "    \"\"\"Converts normalized value pair to pixel coordinates.\"\"\"\n",
    "\n",
    "    # Checks if the float value is between 0 and 1.\n",
    "    def is_valid_normalized_value(value: float) -> bool:\n",
    "        return (value > 0 or math.isclose(0, value)) and (value < 1 or math.isclose(1, value))\n",
    "        \n",
    "    x_px = min(math.floor(normalized_x * image_width), image_width - 1)\n",
    "    y_px = min(math.floor(normalized_y * image_height), image_height - 1)\n",
    "    return x_px, y_px"
   ]
  },
  {
   "attachments": {},
   "cell_type": "markdown",
   "metadata": {},
   "source": [
    "### Draw detection box ###"
   ]
  },
  {
   "cell_type": "code",
   "execution_count": null,
   "metadata": {},
   "outputs": [],
   "source": [
    "#TODO: Draw detection box"
   ]
  },
  {
   "attachments": {},
   "cell_type": "markdown",
   "metadata": {},
   "source": [
    "### Draw landmarks ###"
   ]
  },
  {
   "cell_type": "code",
   "execution_count": null,
   "metadata": {},
   "outputs": [],
   "source": [
    "def draw_landmarks(\n",
    "    image: np.ndarray,\n",
    "    landmark_list: landmark_pb2.NormalizedLandmarkList,\n",
    "    connections: Optional[List[Tuple[int, int]]] = None,\n",
    "    landmark_drawing_spec: Union[DrawingSpec,\n",
    "                                 Mapping[int, DrawingSpec]] = DrawingSpec(\n",
    "                                     color=RED_COLOR),\n",
    "    connection_drawing_spec: Union[DrawingSpec,\n",
    "                                   Mapping[Tuple[int, int],\n",
    "                                           DrawingSpec]] = DrawingSpec()):\n",
    "    \"\"\"Draws the landmarks and the connections on the image.\n",
    "\n",
    "    Args:\n",
    "      image: A three channel BGR image represented as numpy ndarray.\n",
    "      landmark_list: A normalized landmark list proto message to be annotated on\n",
    "        the image.\n",
    "      connections: A list of landmark index tuples that specifies how landmarks to\n",
    "        be connected in the drawing.\n",
    "      landmark_drawing_spec: Either a DrawingSpec object or a mapping from hand\n",
    "        landmarks to the DrawingSpecs that specifies the landmarks' drawing\n",
    "        settings such as color, line thickness, and circle radius. If this\n",
    "        argument is explicitly set to None, no landmarks will be drawn.\n",
    "      connection_drawing_spec: Either a DrawingSpec object or a mapping from hand\n",
    "        connections to the DrawingSpecs that specifies the connections' drawing\n",
    "        settings such as color and line thickness. If this argument is explicitly\n",
    "        set to None, no landmark connections will be drawn.\n",
    "\n",
    "    Raises:\n",
    "      ValueError: If one of the followings:\n",
    "        a) If the input image is not three channel BGR.\n",
    "        b) If any connetions contain invalid landmark index.\n",
    "    \"\"\"\n",
    "    if not landmark_list:\n",
    "        return\n",
    "    if image.shape[2] != _BGR_CHANNELS:\n",
    "        raise ValueError('Input image must contain three channel bgr data.')\n",
    "    image_rows, image_cols, _ = image.shape\n",
    "    idx_to_coordinates = {}\n",
    "    for idx, landmark in enumerate(landmark_list.landmark):\n",
    "        if ((landmark.HasField('visibility') and\n",
    "             landmark.visibility < _VISIBILITY_THRESHOLD) or\n",
    "            (landmark.HasField('presence') and\n",
    "             landmark.presence < _PRESENCE_THRESHOLD)):\n",
    "            continue\n",
    "        landmark_px = _normalized_to_pixel_coordinates(landmark.x, landmark.y,\n",
    "                                                       image_cols, image_rows)\n",
    "        if landmark_px:\n",
    "            idx_to_coordinates[idx] = landmark_px\n",
    "    if connections:\n",
    "        num_landmarks = len(landmark_list.landmark)\n",
    "        # Draws the connections if the start and end landmarks are both visible.\n",
    "        for connection in connections:\n",
    "            start_idx = connection[0]\n",
    "            end_idx = connection[1]\n",
    "            if not (0 <= start_idx < num_landmarks and 0 <= end_idx < num_landmarks):\n",
    "                raise ValueError(f'Landmark index is out of range. Invalid connection '\n",
    "                                 f'from landmark #{start_idx} to landmark #{end_idx}.')\n",
    "            if start_idx in idx_to_coordinates and end_idx in idx_to_coordinates:\n",
    "                drawing_spec = connection_drawing_spec[connection] if isinstance(\n",
    "                    connection_drawing_spec, Mapping) else connection_drawing_spec\n",
    "                cv2.line(image, idx_to_coordinates[start_idx],\n",
    "                         idx_to_coordinates[end_idx], drawing_spec.color,\n",
    "                         drawing_spec.thickness)\n",
    "    # Draws landmark points after finishing the connection lines, which is\n",
    "    # aesthetically better.\n",
    "    if landmark_drawing_spec:\n",
    "        for idx, landmark_px in idx_to_coordinates.items():\n",
    "            drawing_spec = landmark_drawing_spec[idx] if isinstance(\n",
    "                landmark_drawing_spec, Mapping) else landmark_drawing_spec\n",
    "            # White circle border\n",
    "            circle_border_radius = max(drawing_spec.circle_radius + 1,\n",
    "                                       int(drawing_spec.circle_radius * 1.2))\n",
    "            cv2.circle(image, landmark_px, circle_border_radius, WHITE_COLOR,\n",
    "                       drawing_spec.thickness)\n",
    "            # Fill color into the circle\n",
    "            cv2.circle(image, landmark_px, drawing_spec.circle_radius,\n",
    "                       drawing_spec.color, drawing_spec.thickness)"
   ]
  },
  {
   "cell_type": "code",
   "execution_count": null,
   "metadata": {},
   "outputs": [],
   "source": [
    "annotated_image = image.copy()\n",
    "draw_landmarks(\n",
    "    annotated_image,\n",
    "    results.pose_landmarks,\n",
    "    mp_pose.POSE_CONNECTIONS,\n",
    "    landmark_drawing_spec=mp_drawing_styles.get_default_pose_landmarks_style())\n",
    "plt.imshow(annotated_image)"
   ]
  },
  {
   "attachments": {},
   "cell_type": "markdown",
   "metadata": {},
   "source": [
    "### Plot landmarks ###"
   ]
  },
  {
   "cell_type": "code",
   "execution_count": null,
   "metadata": {},
   "outputs": [],
   "source": [
    "def plot_landmarks(landmark_list: landmark_pb2.NormalizedLandmarkList,\n",
    "                   connections: Optional[List[Tuple[int, int]]] = None,\n",
    "                   landmark_drawing_spec: DrawingSpec = DrawingSpec(\n",
    "                       color=RED_COLOR, thickness=5),\n",
    "                   connection_drawing_spec: DrawingSpec = DrawingSpec(\n",
    "                       color=BLACK_COLOR, thickness=5),\n",
    "                   elevation: int = 10,\n",
    "                   azimuth: int = 10):\n",
    "\n",
    "    \"\"\"Plot the landmarks and the connections in matplotlib 3d.\n",
    "\n",
    "    Args:\n",
    "      landmark_list: A normalized landmark list proto message to be plotted.\n",
    "      connections: A list of landmark index tuples that specifies how landmarks to\n",
    "        be connected.\n",
    "      landmark_drawing_spec: A DrawingSpec object that specifies the landmarks'\n",
    "        drawing settings such as color and line thickness.\n",
    "      connection_drawing_spec: A DrawingSpec object that specifies the\n",
    "        connections' drawing settings such as color and line thickness.\n",
    "      elevation: The elevation from which to view the plot.\n",
    "      azimuth: the azimuth angle to rotate the plot.\n",
    "\n",
    "    Raises:\n",
    "      ValueError: If any connection contains an invalid landmark index.\n",
    "    \"\"\"\n",
    "    \n",
    "    if not landmark_list:\n",
    "        return\n",
    "    plt.figure(figsize=(10, 10))\n",
    "    ax = plt.axes(projection='3d')\n",
    "    ax.view_init(elev=elevation, azim=azimuth)\n",
    "    plotted_landmarks = {}\n",
    "    for idx, landmark in enumerate(landmark_list.landmark):\n",
    "        if ((landmark.HasField('visibility') and\n",
    "             landmark.visibility < _VISIBILITY_THRESHOLD) or\n",
    "            (landmark.HasField('presence') and\n",
    "             landmark.presence < _PRESENCE_THRESHOLD)):\n",
    "            continue\n",
    "        ax.scatter3D(\n",
    "            xs=[-landmark.z],\n",
    "            ys=[landmark.x],\n",
    "            zs=[-landmark.y],\n",
    "            color=_normalize_color(landmark_drawing_spec.color[::-1]),\n",
    "            linewidth=landmark_drawing_spec.thickness)\n",
    "        plotted_landmarks[idx] = (-landmark.z, landmark.x, -landmark.y)\n",
    "    if connections:\n",
    "        num_landmarks = len(landmark_list.landmark)\n",
    "        # Draws the connections if the start and end landmarks are both visible.\n",
    "        for connection in connections:\n",
    "            start_idx = connection[0]\n",
    "            end_idx = connection[1]\n",
    "            if not (0 <= start_idx < num_landmarks and 0 <= end_idx < num_landmarks):\n",
    "                raise ValueError(f'Landmark index is out of range. Invalid connection '\n",
    "                                 f'from landmark #{start_idx} to landmark #{end_idx}.')\n",
    "            if start_idx in plotted_landmarks and end_idx in plotted_landmarks:\n",
    "                landmark_pair = [\n",
    "                    plotted_landmarks[start_idx], plotted_landmarks[end_idx]\n",
    "                ]\n",
    "                ax.plot3D(\n",
    "                    xs=[landmark_pair[0][0], landmark_pair[1][0]],\n",
    "                    ys=[landmark_pair[0][1], landmark_pair[1][1]],\n",
    "                    zs=[landmark_pair[0][2], landmark_pair[1][2]],\n",
    "                    color=_normalize_color(\n",
    "                        connection_drawing_spec.color[::-1]),\n",
    "                    linewidth=connection_drawing_spec.thickness)\n",
    "    plt.show()"
   ]
  },
  {
   "cell_type": "code",
   "execution_count": null,
   "metadata": {},
   "outputs": [],
   "source": [
    "plot_landmarks(results.pose_world_landmarks, mp_pose.POSE_CONNECTIONS, elevation=10, azimuth=90)"
   ]
  }
 ],
 "metadata": {
  "kernelspec": {
   "display_name": "karate-trainer",
   "language": "python",
   "name": "python3"
  },
  "language_info": {
   "codemirror_mode": {
    "name": "ipython",
    "version": 3
   },
   "file_extension": ".py",
   "mimetype": "text/x-python",
   "name": "python",
   "nbconvert_exporter": "python",
   "pygments_lexer": "ipython3",
   "version": "3.10.4"
  },
  "orig_nbformat": 4,
  "vscode": {
   "interpreter": {
    "hash": "3e7ead78e6b3ff796c6a295dea41d22dbcc7ad8777260a88e925872abe439df3"
   }
  }
 },
 "nbformat": 4,
 "nbformat_minor": 2
}
